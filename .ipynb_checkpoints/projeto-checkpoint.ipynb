{
 "cells": [
  {
   "cell_type": "markdown",
   "metadata": {
    "collapsed": true
   },
   "source": [
    "Inicialmente, declaramos a função que irá armazenar as parametrizações, além de setar alguns parametros e algumas burocracias de código. Também definimos o dominios das parametrizações."
   ]
  },
  {
   "cell_type": "code",
   "execution_count": null,
   "metadata": {
    "collapsed": true
   },
   "outputs": [],
   "source": [
    "import matplotlib as mpl\n",
    "import numpy as np\n",
    "import matplotlib.pyplot as plt\n",
    "\n",
    "v0 = 0\n",
    "tTotal = 0\n",
    "distTotal = 0\n",
    "precisao = 0.01\n",
    "delta = np.arange(np.pi,(3*np.pi)/2, precisao)\n",
    "gravidade = 9.81\n",
    "\n",
    "def findXY (t):\n",
    "    return (np.cos(t), np.sin(t))"
   ]
  },
  {
   "cell_type": "markdown",
   "metadata": {},
   "source": [
    "Depois, declaramos uma função cujo objetivo é achar os segmentos de reta que usaremos para aproximar a curva. Esses segmentos são, como mostra a imagem, a hipotenusa entre dois pontos da curva. A diferença entre esses pontos é a precisão do cálculo. Quanto menor a diferença entre eles, melhor a aproximação. A função recebe os pontos para os quais calcular o segmento de reta, obtido através da função acima. Além disso, ela retorna o angulo de inclinação das retas que irá nos ajudar a calcular o tempo.\n",
    "\n",
    "![hipotenusa](hip.png)"
   ]
  },
  {
   "cell_type": "code",
   "execution_count": 1,
   "metadata": {
    "collapsed": true
   },
   "outputs": [],
   "source": [
    "def findHipotenusa (x0, x1, y0, y1):\n",
    "    deltaX = x1 - x0\n",
    "    deltaY = y1 - y0\n",
    "    # Em radiano\n",
    "    angulo = np.arctan(deltaY/deltaX)\n",
    "    return np.sqrt((deltaX**2) + (deltaY**2)), angulo"
   ]
  },
  {
   "cell_type": "markdown",
   "metadata": {},
   "source": [
    "Então, declaramos uma função que irá nos retornar o tempo de percurso de cada segmento de reta. Ela recebe como parametros o angulo de inclinação, a distancia (hipotenusa) e a velocidade inicial. E ela retorna o tempo de percurso e a velocidade final (que será utilizada como inicial para o próximo segmento na próxima iteração, e assim por diante).\n",
    "Para calcular o tempo, utilizamos a equação:\n",
    "![fisica](equacao.png)\n",
    "\n",
    "Como já possuimos os parametros _ΔS_ (tamanho do segmento/hipotenusa), _v0_ (inicialmente 0, depois igual a velocidade final no ultimo segmento) e _a_ (aceleração da gravidade), só precisamos isolar o t."
   ]
  },
  {
   "cell_type": "code",
   "execution_count": null,
   "metadata": {
    "collapsed": true
   },
   "outputs": [],
   "source": [
    "# Formula usada\n",
    "# dist = v0*t + (a*(t**2))/2\n",
    "def retornaTempo (teta, dist, v0):\n",
    "    a = gravidade * np.cos(teta)\n",
    "    \n",
    "    delta = 4*(v0**2) + 8*a*dist\n",
    "    t1 = (-2*v0 + np.sqrt(delta))/(2*a)\n",
    "    #t2 = (-2*v0 - np.sqrt(delta))/(2*a)\n",
    "    v = v0 + a*t1 \n",
    "    return (t1,v)"
   ]
  },
  {
   "cell_type": "markdown",
   "metadata": {},
   "source": [
    "Por fim, contruímos o loop que junta todas essa funções. Ele roda para cada intervalo de precisão definido, e tem o seguinte comportamento: \n",
    "* Primeiro, descobre as coordenadas dos dois pontos do segmento aproximado por reta, com base na precisão pré definida\n",
    "* Depois, descobre o comprimento dessa reta (hipotenusa) e o seu angulo de inclinação, usando seu ponto inicial e final.\n",
    "* Então, calcula o tempo necessário para percorrer tal segmento e o adiciona ao tempo total para percorrer a curva.\n",
    "* Isso é repetido para cada intervalo de precisão definido, até percorrer a curva inteira.\n",
    "\n",
    "Por fim, imprime os valores"
   ]
  },
  {
   "cell_type": "code",
   "execution_count": 3,
   "metadata": {
    "collapsed": false
   },
   "outputs": [
    {
     "name": "stdout",
     "output_type": "stream",
     "text": [
      "Tempo total\n",
      "2.26049822885\n",
      "Distancia total\n",
      "1.57999341667\n"
     ]
    }
   ],
   "source": [
    "for t in delta:\n",
    "    x0, y0 = findXY(t)\n",
    "    x1, y1 = findXY(t + precisao)\n",
    "    hip, angulo = findHipotenusa(x0,x1,y0,y1)\n",
    "    distTotal += hip\n",
    "    t1, v = retornaTempo(angulo, hip, v0)\n",
    "    v0 = v\n",
    "    tTotal += t1\n",
    "    #print(t1,v)\n",
    "    \n",
    "print(\"Tempo total\")\n",
    "print(tTotal)\n",
    "print('Distancia total')\n",
    "print(distTotal)\n",
    "\n",
    "# plt.plot(parabola)\n",
    "# plt.plot(x,y)\n",
    "\n",
    "# reta = 2*delta2\n",
    "# plt.plot(reta)\n",
    "#for x in delta:\n",
    "# plt.show()"
   ]
  },
  {
   "cell_type": "code",
   "execution_count": null,
   "metadata": {
    "collapsed": true
   },
   "outputs": [],
   "source": []
  }
 ],
 "metadata": {
  "kernelspec": {
   "display_name": "Python 2",
   "language": "python",
   "name": "python2"
  },
  "language_info": {
   "codemirror_mode": {
    "name": "ipython",
    "version": 2
   },
   "file_extension": ".py",
   "mimetype": "text/x-python",
   "name": "python",
   "nbconvert_exporter": "python",
   "pygments_lexer": "ipython2",
   "version": "2.7.13"
  }
 },
 "nbformat": 4,
 "nbformat_minor": 1
}
