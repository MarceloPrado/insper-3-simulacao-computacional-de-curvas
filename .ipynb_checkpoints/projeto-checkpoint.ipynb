{
 "cells": [
  {
   "cell_type": "markdown",
   "metadata": {},
   "source": [
    "## Relatório\n",
    "### Daniel Ruhman e Marcelo Terreiro Prado\n",
    "\n",
    "O projeto a seguir foi realizada para a disciplina de Matemática Multivariada ministrada pelo Professor Fabio Orfali no curso de Engenharia do INSPER.\n",
    "Ele tem como objetivo o desenvolvimento de uma simulação computacional baseada em métodos numéricos (mais especificamente a aproximação da curva por uma linha poligonal composta por _n_ segmentos) para calcular o tempo aproximado que um objeto, sujeito apenas à força da gravidade, leva para percorrer uma trajetória dada por curvas parametrizadas e pontos iniciais e finais ou domínio."
   ]
  },
  {
   "cell_type": "code",
   "execution_count": 149,
   "metadata": {
    "collapsed": true
   },
   "outputs": [],
   "source": [
    "import matplotlib as mpl\n",
    "import numpy as np\n",
    "import matplotlib.pyplot as plt\n"
   ]
  },
  {
   "cell_type": "markdown",
   "metadata": {},
   "source": [
    "## Dedução\tgeométrica\tda\tparametrização\tda\tcicloide\n",
    "\n",
    "Considere uma circunferência C de raio _r_ com um ponto P, fixo. Ao rolar a circunferência sobre uma reta (eixo x), o ponto P traça uma curva chamada de ciclóide. Queremos descobrir quanto a curva \"caminhou\" em cada eixo. A seguir, apresentamos a dedução geométrica para sua parametrização, partindo dos seguintes pressupostos:\n",
    "\n",
    "* _θ_ = 0 no início, gira _θ_ radianos;\n",
    "* o ponto P coincide com a origem do sistema de coordenadas no início do movimento;\n",
    "\n",
    "<img src=\"circunf.png\",width=300,height=300>\n",
    "\n",
    "Podemos então escrever:\n",
    "\n",
    "<img src=\"equacoes.png\",width=200,height=200>\n",
    "\n",
    "Com os deslocamentos de x e y em mãos, precisamos descobrir os segmentos de reta para determinar as parametrizações em relação ao parâmetro _θ_. Começemos por |OT| . Como C está em contato com a reta, deduzimos que:\n",
    "\n",
    "<img src=\"ot.png\",width=200,height=200>\n",
    "\n",
    "Podemos deduzir pela figura os outros 3 segmentos restantes:\n",
    "\n",
    "<img src=\"seg.png\",width=200,height=200>\n",
    "\n",
    "Agora resta substituir os segmentos encontrados nas equações 1 e 2 e obtemos a parametrização final:\n",
    "\n",
    "<img src=\"param.png\",width=300,height=300>"
   ]
  },
  {
   "cell_type": "markdown",
   "metadata": {
    "collapsed": true
   },
   "source": [
    "## Modelo Computacional\n",
    "\n",
    "O modelo desenvolvido pelo grupo encontra-se explicado abaixo. Inicialmente, declaramos as variáveis que irão armazenar as parametrizações, além de definir alguns parâmetros e algumas burocracias de código. Também definimos o dominios das parametrizações.\n",
    "##### Coloque a sua parametrização e o domínio nas variáveis abaixo "
   ]
  },
  {
   "cell_type": "code",
   "execution_count": 150,
   "metadata": {
    "collapsed": false
   },
   "outputs": [],
   "source": [
    "def retornaParametrizacao (t):\n",
    "    # Parametrização em X\n",
    "    xParam = np.cos(t)\n",
    "    # Parametrização em Y\n",
    "    yParam = np.sin(t)\n",
    "    return (xParam, yParam)\n",
    "    \n",
    "\n",
    "dominioMin = np.pi\n",
    "dominioMax = (3*np.pi) / 2"
   ]
  },
  {
   "cell_type": "code",
   "execution_count": 151,
   "metadata": {
    "collapsed": false
   },
   "outputs": [],
   "source": [
    "v0 = 0\n",
    "tTotal = 0\n",
    "distTotal = 0\n",
    "precisao = 0.01\n",
    "delta = np.arange(dominioMin,dominioMax, precisao)\n",
    "gravidade = 9.81\n",
    "\n",
    "xMax, yMax = retornaParametrizacao(dominioMin)\n",
    "listaX = []\n",
    "listaY = []"
   ]
  },
  {
   "cell_type": "markdown",
   "metadata": {},
   "source": [
    "Depois, declaramos uma função cujo objetivo é achar os segmentos de reta que usaremos para aproximar a curva. Esses segmentos são, como mostra a imagem, a hipotenusa entre dois pontos da curva. A diferença entre esses pontos é a precisão do cálculo. Quanto menor a diferença entre eles, melhor a aproximação. A função recebe os pontos para os quais calcular o segmento de reta, obtidos através da função acima. Além disso, ela retorna o angulo de inclinação das retas que irá nos ajudar a calcular o tempo.\n",
    "\n",
    "<img src=\"hip.png\",width=300,height=300>"
   ]
  },
  {
   "cell_type": "code",
   "execution_count": 152,
   "metadata": {
    "collapsed": true
   },
   "outputs": [],
   "source": [
    "def findHipotenusa (x0, x1, y0, y1):\n",
    "    deltaX = x1 - x0\n",
    "    deltaY = y1 - y0\n",
    "    # Em radiano\n",
    "    angulo = np.arctan(deltaY/deltaX)\n",
    "    return np.sqrt((deltaX**2) + (deltaY**2)), angulo"
   ]
  },
  {
   "cell_type": "markdown",
   "metadata": {},
   "source": [
    "Então, declaramos uma função que irá nos retornar o tempo de percurso de cada segmento de reta. Ela recebe como parametros o angulo de inclinação, a distancia (hipotenusa) e a velocidade inicial. E ela retorna o tempo de percurso e a velocidade final (que será utilizada como inicial para o próximo segmento na próxima iteração, e assim por diante).\n",
    "Para calcular o tempo, utilizamos a equação:\n",
    "![fisica](equacao.png)\n",
    "\n",
    "Como já possuimos os parametros _ΔS_ (tamanho do segmento/hipotenusa), _v0_ (inicialmente 0, depois igual a velocidade final no segmento anterior) e _a_ (aceleração da gravidade), só precisamos isolar o _t_."
   ]
  },
  {
   "cell_type": "code",
   "execution_count": 153,
   "metadata": {
    "collapsed": true
   },
   "outputs": [],
   "source": [
    "# Formula usada\n",
    "# dist = v0*t + (a*(t**2))/2\n",
    "def retornaTempo (teta, dist, v0):\n",
    "    a = gravidade * np.cos(teta)\n",
    "    \n",
    "    delta = 4*(v0**2) + 8*a*dist\n",
    "    t1 = (-2*v0 + np.sqrt(delta))/(2*a)\n",
    "    #t2 = (-2*v0 - np.sqrt(delta))/(2*a)\n",
    "    v = v0 + a*t1 \n",
    "    return (t1,v)"
   ]
  },
  {
   "cell_type": "markdown",
   "metadata": {},
   "source": [
    "Por fim, contruímos o loop que junta todas essa funções. Ele roda para cada intervalo de precisão definido, e tem o seguinte comportamento: \n",
    "* Primeiro, descobre as coordenadas dos dois pontos do segmento aproximado por reta, com base na precisão pré definida\n",
    "* Depois, descobre o comprimento dessa reta (hipotenusa) e o seu angulo de inclinação, usando seu ponto inicial e final.\n",
    "* Então, calcula o tempo necessário para percorrer tal segmento e o adiciona ao tempo total para percorrer a curva.\n",
    "* Isso é repetido para cada intervalo de precisão definido, até percorrer a curva inteira.\n",
    "\n",
    "Por fim, imprime os valores (nesse caso, **um quarto de circunferencia**):"
   ]
  },
  {
   "cell_type": "code",
   "execution_count": 154,
   "metadata": {
    "collapsed": false,
    "scrolled": true
   },
   "outputs": [
    {
     "name": "stdout",
     "output_type": "stream",
     "text": [
      "Tempo total (s)\n",
      "2.26049822885\n",
      "Distancia total (m)\n",
      "1.57999341667\n"
     ]
    },
    {
     "data": {
      "image/png": "[encoded data removed]",
      "text/plain": [
       "<matplotlib.figure.Figure at 0x112bcc410>"
      ]
     },
     "metadata": {},
     "output_type": "display_data"
    }
   ],
   "source": [
    "consegueSubir = True\n",
    "\n",
    "for t in delta:\n",
    "    \n",
    "    x0, y0 = retornaParametrizacao(t)\n",
    "\n",
    "    listaX.append(x0)\n",
    "    listaY.append(y0)\n",
    "    x1, y1 = retornaParametrizacao(t + precisao)\n",
    "    \n",
    "    if (y1 > yMax):\n",
    "        consegueSubir = False\n",
    "    \n",
    "    hip, angulo = findHipotenusa(x0,x1,y0,y1)\n",
    "    distTotal += hip\n",
    "    t1, v = retornaTempo(angulo, hip, v0)\n",
    "    v0 = v\n",
    "    tTotal += t1\n",
    "    #print(t1,v)\n",
    "    \n",
    "if consegueSubir: \n",
    "    print(\"Tempo total (s)\")\n",
    "    print(tTotal)\n",
    "    print('Distancia total (m)')\n",
    "    print(distTotal)\n",
    "\n",
    "else:\n",
    "    print('A bolinha não consegue subir essa curva. O Y máximo é {0}'.format(yMax))\n",
    "    \n",
    "plt.plot(listaX,listaY)\n",
    "plt.show()"
   ]
  },
  {
   "cell_type": "markdown",
   "metadata": {},
   "source": [
    "## Validação\n",
    "\n",
    "Abaixo está a validação da nossa simulação computacional. Nela, utilizamos uma reta como curva parametrizável. Olhando seu domínio, fica claro que a distância percorrida faz sentido. Utilizando pitágoras, pode-se perceber que a distância vale raiz quadradada de 200, o que bate com nosso resultado.\n",
    "\n",
    "Para o cálculo do tempo, "
   ]
  },
  {
   "cell_type": "markdown",
   "metadata": {},
   "source": [
    "### Reta"
   ]
  },
  {
   "cell_type": "code",
   "execution_count": 159,
   "metadata": {
    "collapsed": false
   },
   "outputs": [
    {
     "name": "stdout",
     "output_type": "stream",
     "text": [
      "Tempo total (s)\n",
      "2.01927510938\n",
      "Distancia total (m)\n",
      "14.1421356237\n"
     ]
    },
    {
     "data": {
      "image/png": "[encoded data removed]",
      "text/plain": [
       "<matplotlib.figure.Figure at 0x113551390>"
      ]
     },
     "metadata": {},
     "output_type": "display_data"
    }
   ],
   "source": [
    "def retornaParametrizacao (t):\n",
    "    # Parametrização em X\n",
    "    xParam = t\n",
    "    # Parametrização em Y\n",
    "    yParam = 10 - t\n",
    "    return (xParam, yParam)\n",
    "    \n",
    "\n",
    "dominioMin = 0\n",
    "dominioMax = 10\n",
    "v0 = 0\n",
    "tTotal = 0\n",
    "distTotal = 0\n",
    "precisao = 0.01\n",
    "delta = np.arange(dominioMin,dominioMax, precisao)\n",
    "gravidade = 9.81\n",
    "\n",
    "xMax, yMax = retornaParametrizacao(dominioMin)\n",
    "listaX = []\n",
    "listaY = []\n",
    "consegueSubir = True\n",
    "\n",
    "for t in delta:\n",
    "    x0, y0 = retornaParametrizacao(t)\n",
    "\n",
    "    listaX.append(x0)\n",
    "    listaY.append(y0)\n",
    "    x1, y1 = retornaParametrizacao(t + precisao)\n",
    "    \n",
    "    if (np.abs(y1) > np.abs(yMax)):\n",
    "        consegueSubir = False\n",
    "    \n",
    "    hip, angulo = findHipotenusa(x0,x1,y0,y1)\n",
    "    distTotal += hip\n",
    "    t1, v = retornaTempo(angulo, hip, v0)\n",
    "    v0 = v\n",
    "    tTotal += t1\n",
    "    #print(t1,v)\n",
    "    \n",
    "if consegueSubir: \n",
    "    print(\"Tempo total (s)\")\n",
    "    print(tTotal)\n",
    "    print('Distancia total (m)')\n",
    "    print(distTotal)\n",
    "else:\n",
    "    print('A bolinha não consegue subir essa curva. O Y máximo é {0}'.format(yMax))\n",
    "\n",
    "plt.plot(listaX,listaY)\n",
    "plt.show()"
   ]
  },
  {
   "cell_type": "markdown",
   "metadata": {
    "collapsed": true
   },
   "source": [
    "### Cicloide (r =1) - aceertar e definir se fica ou não"
   ]
  },
  {
   "cell_type": "code",
   "execution_count": 156,
   "metadata": {
    "collapsed": false
   },
   "outputs": [
    {
     "name": "stdout",
     "output_type": "stream",
     "text": [
      "Tempo total (s)\n",
      "0.768089538491\n",
      "Distancia total (m)\n",
      "2.84141012987\n"
     ]
    },
    {
     "data": {
      "image/png": "[encoded data removed]",
      "text/plain": [
       "<matplotlib.figure.Figure at 0x1138ae910>"
      ]
     },
     "metadata": {},
     "output_type": "display_data"
    }
   ],
   "source": [
    "def retornaParametrizacao (t):\n",
    "    # Parametrização em X\n",
    "    xParam = t - np.sin(t)\n",
    "    # Parametrização em Y\n",
    "    yParam = (1 - np.cos(t)) + 2\n",
    "    return (xParam, yParam)\n",
    "\n",
    "dominioMin = np.pi\n",
    "dominioMax = 3*np.pi/2\n",
    "v0 = 0\n",
    "tTotal = 0\n",
    "distTotal = 0\n",
    "precisao = 0.01\n",
    "delta = np.arange(dominioMin,dominioMax, precisao)\n",
    "gravidade = 9.81\n",
    "\n",
    "xMax, yMax = retornaParametrizacao(dominioMin)\n",
    "listaX = []\n",
    "listaY = []\n",
    "consegueSubir = True\n",
    "\n",
    "for t in delta:\n",
    "    x0, y0 = retornaParametrizacao(t)\n",
    "\n",
    "    listaX.append(x0)\n",
    "    listaY.append(y0)\n",
    "    x1, y1 = retornaParametrizacao(t + precisao)\n",
    "    \n",
    "    if (np.abs(y1) > np.abs(yMax)):\n",
    "        consegueSubir = False\n",
    "    \n",
    "    hip, angulo = findHipotenusa(x0,x1,y0,y1)\n",
    "    distTotal += hip\n",
    "    t1, v = retornaTempo(angulo, hip, v0)\n",
    "    v0 = v\n",
    "    tTotal += t1\n",
    "    #print(t1,v)\n",
    "    \n",
    "if consegueSubir: \n",
    "    print(\"Tempo total (s)\")\n",
    "    print(tTotal)\n",
    "    print('Distancia total (m)')\n",
    "    print(distTotal)\n",
    "else:\n",
    "    print('A bolinha não consegue subir essa curva. O Y máximo é {0}'.format(yMax))\n",
    "plt.plot(listaX,listaY)\n",
    "plt.show()"
   ]
  },
  {
   "cell_type": "code",
   "execution_count": 157,
   "metadata": {
    "collapsed": false
   },
   "outputs": [
    {
     "name": "stdout",
     "output_type": "stream",
     "text": [
      "Tempo total (s)\n",
      "0.768089538491\n",
      "Distancia total (m)\n",
      "2.84141012987\n"
     ]
    },
    {
     "data": {
      "image/png": "[encoded data removed]",
      "text/plain": [
       "<matplotlib.figure.Figure at 0x113404c50>"
      ]
     },
     "metadata": {},
     "output_type": "display_data"
    }
   ],
   "source": [
    "def retornaParametrizacao (t):\n",
    "    # Parametrização em X\n",
    "    xParam = -(t - np.sin(t))\n",
    "    # Parametrização em Y\n",
    "    yParam = -(1 - np.cos(t)) + 2\n",
    "    return (xParam, yParam)\n",
    "\n",
    "dominioMin = np.pi\n",
    "dominioMax = 3*np.pi/2\n",
    "v0 = 0\n",
    "tTotal = 0\n",
    "distTotal = 0\n",
    "precisao = 0.01\n",
    "delta = np.arange(dominioMin,dominioMax, precisao)\n",
    "gravidade = 9.81\n",
    "\n",
    "xMax, yMax = retornaParametrizacao(dominioMin)\n",
    "listaX = []\n",
    "listaY = []\n",
    "consegueSubir = True\n",
    "\n",
    "for t in delta:\n",
    "    x0, y0 = retornaParametrizacao(t)\n",
    "\n",
    "    listaX.append(x0)\n",
    "    listaY.append(y0)\n",
    "    x1, y1 = retornaParametrizacao(t + precisao)\n",
    "    \n",
    "    hip, angulo = findHipotenusa(x0,x1,y0,y1)\n",
    "    distTotal += hip\n",
    "    t1, v = retornaTempo(angulo, hip, v0)\n",
    "    v0 = v\n",
    "    tTotal += t1\n",
    "    #print(t1,v)\n",
    "    \n",
    "if consegueSubir: \n",
    "    print(\"Tempo total (s)\")\n",
    "    print(tTotal)\n",
    "    print('Distancia total (m)')\n",
    "    print(distTotal)\n",
    "else:\n",
    "    print('A bolinha não consegue subir essa curva. O Y máximo é {0}'.format(yMax))\n",
    "plt.plot(listaX,listaY)\n",
    "plt.show()"
   ]
  },
  {
   "cell_type": "markdown",
   "metadata": {
    "collapsed": true
   },
   "source": [
    "### Elipse\n",
    "Com a = 8 e b = 5"
   ]
  },
  {
   "cell_type": "code",
   "execution_count": 158,
   "metadata": {
    "collapsed": false
   },
   "outputs": [
    {
     "name": "stdout",
     "output_type": "stream",
     "text": [
      "Tempo total (s)\n",
      "1.48227279029\n",
      "Distancia total (m)\n",
      "10.3925447961\n"
     ]
    },
    {
     "data": {
      "image/png": "[encoded data removed]",
      "text/plain": [
       "<matplotlib.figure.Figure at 0x113242ad0>"
      ]
     },
     "metadata": {},
     "output_type": "display_data"
    }
   ],
   "source": [
    "def retornaParametrizacao (t):\n",
    "    # Parametrização em X\n",
    "    xParam = 8 * np.sin(t)\n",
    "    # Parametrização em Y\n",
    "    yParam = 5 * np.cos(t)\n",
    "    return (xParam, yParam)\n",
    "    \n",
    "\n",
    "dominioMin = np.pi\n",
    "dominioMax = 3*np.pi/2\n",
    "v0 = 0\n",
    "tTotal = 0\n",
    "distTotal = 0\n",
    "precisao = 0.01\n",
    "delta = np.arange(dominioMin,dominioMax, precisao)\n",
    "gravidade = 9.81\n",
    "\n",
    "xMax, yMax = retornaParametrizacao(dominioMin)\n",
    "listaX = []\n",
    "listaY = []\n",
    "consegueSubir = True\n",
    "\n",
    "for t in delta:\n",
    "    x0, y0 = retornaParametrizacao(t)\n",
    "\n",
    "    listaX.append(x0)\n",
    "    listaY.append(y0)\n",
    "    x1, y1 = retornaParametrizacao(t + precisao)\n",
    "    \n",
    "    if (np.abs(y1) > np.abs(yMax)):\n",
    "        consegueSubir = False\n",
    "    \n",
    "    hip, angulo = findHipotenusa(x0,x1,y0,y1)\n",
    "    distTotal += hip\n",
    "    t1, v = retornaTempo(angulo, hip, v0)\n",
    "    v0 = v\n",
    "    tTotal += t1\n",
    "    #print(t1,v)\n",
    "    \n",
    "if consegueSubir: \n",
    "    print(\"Tempo total (s)\")\n",
    "    print(tTotal)\n",
    "    print('Distancia total (m)')\n",
    "    print(distTotal)\n",
    "else:\n",
    "    print('A bolinha não consegue subir essa curva. O Y máximo é {0}'.format(yMax))\n",
    "plt.plot(listaX,listaY)\n",
    "plt.show()"
   ]
  }
 ],
 "metadata": {
  "kernelspec": {
   "display_name": "Python 2",
   "language": "python",
   "name": "python2"
  },
  "language_info": {
   "codemirror_mode": {
    "name": "ipython",
    "version": 2
   },
   "file_extension": ".py",
   "mimetype": "text/x-python",
   "name": "python",
   "nbconvert_exporter": "python",
   "pygments_lexer": "ipython2",
   "version": "2.7.13"
  }
 },
 "nbformat": 4,
 "nbformat_minor": 1
}
