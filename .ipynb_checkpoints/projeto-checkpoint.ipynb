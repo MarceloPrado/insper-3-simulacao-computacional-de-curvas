{
 "cells": [
  {
   "cell_type": "markdown",
   "metadata": {},
   "source": [
    "## Relatório\n",
    "### Daniel Ruhman e Marcelo Terreiro Prado\n",
    "\n",
    "O projeto a seguir foi realizada para a disciplina de Matemática Multivariada ministrada pelo Professor Fabio Orfali no curso de Engenharia do INSPER.\n",
    "Ele tem como objetivo o desenvolvimento de uma simulação computacional baseada em métodos numéricos (mais especificamente a aproximação da curva por uma linha poligonal composta por _n_ segmentos) para calcular o tempo aproximado que um objeto, sujeito apenas à força da gravidade, leva para percorrer uma trajetória dada por curvas parametrizadas e pontos iniciais e finais ou domínio."
   ]
  },
  {
   "cell_type": "code",
   "execution_count": 32,
   "metadata": {
    "collapsed": true
   },
   "outputs": [],
   "source": [
    "import matplotlib as mpl\n",
    "import numpy as np\n",
    "import matplotlib.pyplot as plt\n"
   ]
  },
  {
   "cell_type": "markdown",
   "metadata": {},
   "source": [
    "## Dedução\tgeométrica\tda\tparametrização\tda\tcicloide\n",
    "\n",
    "Considere uma circunferência C de raio _r_ com um ponto P, fixo. Ao rolar a circunferência sobre uma reta (eixo x), o ponto P traça uma curva chamada de ciclóide. Queremos descobrir quanto a curva \"caminhou\" em cada eixo. A seguir, apresentamos a dedução geométrica para sua parametrização, partindo dos seguintes pressupostos:\n",
    "\n",
    "* _θ_ = 0 no início, gira _θ_ radianos;\n",
    "* o ponto P coincide com a origem do sistema de coordenadas no início do movimento;\n",
    "\n",
    "![circulo](circunf.png)\n",
    "\n",
    "Podemos então escrever:\n",
    "\n",
    "![equacoes](equacoes.png)\n",
    "\n",
    "Com os deslocamentos de x e y em mãos, precisamos descobrir os segmentos de reta para determinar as parametrizações em relação ao parâmetro _θ_. Começemos por |OT| . Como C está em contato com a reta, deduzimos que:\n",
    "\n",
    "![ot](ot.png)\n",
    "\n",
    "Podemos deduzir pela figura os outros 3 segmentos restantes:\n",
    "\n",
    "![seg](seg.png)\n",
    "\n",
    "Agora resta substituir os segmentos encontrados nas equações 1 e 2 e obtemos a parametrização final:\n",
    "\n",
    "![final](param.png)"
   ]
  },
  {
   "cell_type": "markdown",
   "metadata": {
    "collapsed": true
   },
   "source": [
    "## Modelo Computacional\n",
    "\n",
    "O modelo desenvolvido pelo grupo encontra-se explicado abaixo. Inicialmente, declaramos as variáveis que irão armazenar as parametrizações, além de definir alguns parâmetros e algumas burocracias de código. Também definimos o dominios das parametrizações.\n",
    "##### Coloque a sua parametrização e o domínio nas variáveis abaixo "
   ]
  },
  {
   "cell_type": "code",
   "execution_count": 33,
   "metadata": {
    "collapsed": false
   },
   "outputs": [],
   "source": [
    "def retornaParametrizacao (t):\n",
    "    # Parametrização em X\n",
    "    xParam = np.cos(t)\n",
    "    # Parametrização em Y\n",
    "    yParam = np.sin(t)\n",
    "    return (xParam, yParam)\n",
    "    \n",
    "\n",
    "dominioMin = np.pi\n",
    "dominioMax = (3*np.pi) / 2"
   ]
  },
  {
   "cell_type": "code",
   "execution_count": 34,
   "metadata": {
    "collapsed": false
   },
   "outputs": [],
   "source": [
    "v0 = 0\n",
    "tTotal = 0\n",
    "distTotal = 0\n",
    "precisao = 0.01\n",
    "delta = np.arange(dominioMin,dominioMax, precisao)\n",
    "gravidade = 9.81\n",
    "\n",
    "xMax, yMax = retornaParametrizacao(dominioMin)\n",
    "listaX = []\n",
    "listaY = []"
   ]
  },
  {
   "cell_type": "markdown",
   "metadata": {},
   "source": [
    "Depois, declaramos uma função cujo objetivo é achar os segmentos de reta que usaremos para aproximar a curva. Esses segmentos são, como mostra a imagem, a hipotenusa entre dois pontos da curva. A diferença entre esses pontos é a precisão do cálculo. Quanto menor a diferença entre eles, melhor a aproximação. A função recebe os pontos para os quais calcular o segmento de reta, obtidos através da função acima. Além disso, ela retorna o angulo de inclinação das retas que irá nos ajudar a calcular o tempo.\n",
    "\n",
    "![hipotenusa](hip.png)"
   ]
  },
  {
   "cell_type": "code",
   "execution_count": 35,
   "metadata": {
    "collapsed": true
   },
   "outputs": [],
   "source": [
    "def findHipotenusa (x0, x1, y0, y1):\n",
    "    deltaX = x1 - x0\n",
    "    deltaY = y1 - y0\n",
    "    # Em radiano\n",
    "    angulo = np.arctan(deltaY/deltaX)\n",
    "    return np.sqrt((deltaX**2) + (deltaY**2)), angulo"
   ]
  },
  {
   "cell_type": "markdown",
   "metadata": {},
   "source": [
    "Então, declaramos uma função que irá nos retornar o tempo de percurso de cada segmento de reta. Ela recebe como parametros o angulo de inclinação, a distancia (hipotenusa) e a velocidade inicial. E ela retorna o tempo de percurso e a velocidade final (que será utilizada como inicial para o próximo segmento na próxima iteração, e assim por diante).\n",
    "Para calcular o tempo, utilizamos a equação:\n",
    "![fisica](equacao.png)\n",
    "\n",
    "Como já possuimos os parametros _ΔS_ (tamanho do segmento/hipotenusa), _v0_ (inicialmente 0, depois igual a velocidade final no segmento anterior) e _a_ (aceleração da gravidade), só precisamos isolar o _t_."
   ]
  },
  {
   "cell_type": "code",
   "execution_count": 36,
   "metadata": {
    "collapsed": true
   },
   "outputs": [],
   "source": [
    "# Formula usada\n",
    "# dist = v0*t + (a*(t**2))/2\n",
    "def retornaTempo (teta, dist, v0):\n",
    "    a = gravidade * np.cos(teta)\n",
    "    \n",
    "    delta = 4*(v0**2) + 8*a*dist\n",
    "    t1 = (-2*v0 + np.sqrt(delta))/(2*a)\n",
    "    #t2 = (-2*v0 - np.sqrt(delta))/(2*a)\n",
    "    v = v0 + a*t1 \n",
    "    return (t1,v)"
   ]
  },
  {
   "cell_type": "markdown",
   "metadata": {},
   "source": [
    "Por fim, contruímos o loop que junta todas essa funções. Ele roda para cada intervalo de precisão definido, e tem o seguinte comportamento: \n",
    "* Primeiro, descobre as coordenadas dos dois pontos do segmento aproximado por reta, com base na precisão pré definida\n",
    "* Depois, descobre o comprimento dessa reta (hipotenusa) e o seu angulo de inclinação, usando seu ponto inicial e final.\n",
    "* Então, calcula o tempo necessário para percorrer tal segmento e o adiciona ao tempo total para percorrer a curva.\n",
    "* Isso é repetido para cada intervalo de precisão definido, até percorrer a curva inteira.\n",
    "\n",
    "Por fim, imprime os valores"
   ]
  },
  {
   "cell_type": "code",
   "execution_count": 41,
   "metadata": {
    "collapsed": false,
    "scrolled": true
   },
   "outputs": [
    {
     "name": "stdout",
     "output_type": "stream",
     "text": [
      "Tempo total (s)\n",
      "2.99673859817\n",
      "Distancia total (m)\n",
      "6.3199736667\n"
     ]
    },
    {
     "ename": "TypeError",
     "evalue": "'str' object is not callable",
     "output_type": "error",
     "traceback": [
      "\u001b[0;31m---------------------------------------------------------------------------\u001b[0m",
      "\u001b[0;31mTypeError\u001b[0m                                 Traceback (most recent call last)",
      "\u001b[0;32m<ipython-input-41-2419df743769>\u001b[0m in \u001b[0;36m<module>\u001b[0;34m()\u001b[0m\n\u001b[1;32m     26\u001b[0m \u001b[0;34m\u001b[0m\u001b[0m\n\u001b[1;32m     27\u001b[0m \u001b[0mplt\u001b[0m\u001b[0;34m.\u001b[0m\u001b[0mplot\u001b[0m\u001b[0;34m(\u001b[0m\u001b[0mlistaX\u001b[0m\u001b[0;34m,\u001b[0m\u001b[0mlistaY\u001b[0m\u001b[0;34m)\u001b[0m\u001b[0;34m\u001b[0m\u001b[0m\n\u001b[0;32m---> 28\u001b[0;31m \u001b[0mplt\u001b[0m\u001b[0;34m.\u001b[0m\u001b[0mxlabel\u001b[0m\u001b[0;34m(\u001b[0m\u001b[0;34m' lala'\u001b[0m\u001b[0;34m)\u001b[0m\u001b[0;34m\u001b[0m\u001b[0m\n\u001b[0m\u001b[1;32m     29\u001b[0m \u001b[0mplt\u001b[0m\u001b[0;34m.\u001b[0m\u001b[0mshow\u001b[0m\u001b[0;34m(\u001b[0m\u001b[0;34m)\u001b[0m\u001b[0;34m\u001b[0m\u001b[0m\n",
      "\u001b[0;31mTypeError\u001b[0m: 'str' object is not callable"
     ]
    }
   ],
   "source": [
    "plotPrecision = 10\n",
    "\n",
    "for (index,t) in enumerate(delta):\n",
    "    x0, y0 = retornaParametrizacao(t)\n",
    "\n",
    "#     if (index % plotPrecision == 0):\n",
    "    listaX.append(x0)\n",
    "    listaY.append(y0)\n",
    "    x1, y1 = retornaParametrizacao(t + precisao)\n",
    "    \n",
    "    if (y1 > yMax):\n",
    "        print('A bolinha não consegue subir essa curva. O Y máximo é {0}'.format(yMax))\n",
    "        break\n",
    "    \n",
    "    hip, angulo = findHipotenusa(x0,x1,y0,y1)\n",
    "    distTotal += hip\n",
    "    t1, v = retornaTempo(angulo, hip, v0)\n",
    "    v0 = v\n",
    "    tTotal += t1\n",
    "    #print(t1,v)\n",
    "    \n",
    "print(\"Tempo total (s)\")\n",
    "print(tTotal)\n",
    "print('Distancia total (m)')\n",
    "print(distTotal)\n",
    "\n",
    "plt.plot(listaX,listaY)\n",
    "plt.show()"
   ]
  },
  {
   "cell_type": "markdown",
   "metadata": {},
   "source": [
    "## Simulações\n",
    "\n"
   ]
  }
 ],
 "metadata": {
  "kernelspec": {
   "display_name": "Python 3",
   "language": "python",
   "name": "python3"
  },
  "language_info": {
   "codemirror_mode": {
    "name": "ipython",
    "version": 3
   },
   "file_extension": ".py",
   "mimetype": "text/x-python",
   "name": "python",
   "nbconvert_exporter": "python",
   "pygments_lexer": "ipython3",
   "version": "3.5.2"
  }
 },
 "nbformat": 4,
 "nbformat_minor": 1
}
