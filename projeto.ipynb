{
 "cells": [
  {
   "cell_type": "markdown",
   "metadata": {},
   "source": [
    "## Relatório\n",
    "### Daniel Ruhman e Marcelo Terreiro Prado\n",
    "\n",
    "O projeto a seguir foi realizado para a disciplina de Matemática Multivariada ministrada pelo Professor Fabio Orfali no curso de Engenharia do INSPER.\n",
    "Ele tem como objetivo o desenvolvimento de uma simulação computacional baseada em métodos numéricos (mais especificamente a aproximação da curva por uma linha poligonal composta por _n_ segmentos) para calcular o tempo aproximado que um objeto, sujeito apenas à força da gravidade, leva para percorrer uma trajetória dada por curvas parametrizadas e pontos iniciais e finais ou domínio."
   ]
  },
  {
   "cell_type": "code",
   "execution_count": 266,
   "metadata": {
    "collapsed": true
   },
   "outputs": [],
   "source": [
    "import matplotlib as mpl\n",
    "import numpy as np\n",
    "import matplotlib.pyplot as plt\n"
   ]
  },
  {
   "cell_type": "markdown",
   "metadata": {},
   "source": [
    "## Dedução\tgeométrica\tda\tparametrização\tda\tcicloide\n",
    "\n",
    "Considere uma circunferência C de raio _r_ com um ponto P, fixo. Ao rolar a circunferência sobre uma reta (eixo x), o ponto P traça uma curva chamada de ciclóide. Queremos descobrir quanto a curva \"caminhou\" em cada eixo. A seguir, apresentamos a dedução geométrica para sua parametrização, partindo dos seguintes pressupostos:\n",
    "\n",
    "* _θ_ = 0 no início, gira _θ_ radianos;\n",
    "* o ponto P coincide com a origem do sistema de coordenadas no início do movimento;\n",
    "\n",
    "<img src=\"circunf.png\",width=300,height=300>\n",
    "\n",
    "Podemos então escrever:\n",
    "\n",
    "<img src=\"equacoes.png\",width=200,height=200>\n",
    "\n",
    "Com os deslocamentos de x e y em mãos, precisamos descobrir os segmentos de reta para determinar as parametrizações em relação ao parâmetro _θ_. Começemos por |OT| . Como C está em contato com a reta, deduzimos que:\n",
    "\n",
    "<img src=\"ot.png\",width=200,height=200>\n",
    "\n",
    "Podemos deduzir pela figura os outros 3 segmentos restantes:\n",
    "\n",
    "<img src=\"seg.png\",width=200,height=200>\n",
    "\n",
    "Agora resta substituir os segmentos encontrados nas equações 1 e 2 e obtemos a parametrização final:\n",
    "\n",
    "<img src=\"param.png\",width=300,height=300>"
   ]
  },
  {
   "cell_type": "markdown",
   "metadata": {
    "collapsed": true
   },
   "source": [
    "## Modelo Computacional\n",
    "\n",
    "O modelo desenvolvido pelo grupo encontra-se explicado abaixo. Inicialmente, declaramos as variáveis que irão armazenar as parametrizações, além de definir alguns parâmetros e algumas burocracias de código. Também definimos o dominios das parametrizações.\n",
    "##### Coloque a sua parametrização e o domínio nas variáveis abaixo "
   ]
  },
  {
   "cell_type": "code",
   "execution_count": 267,
   "metadata": {
    "collapsed": false
   },
   "outputs": [],
   "source": [
    "def retornaParametrizacao (t):\n",
    "    # Parametrização em X\n",
    "    xParam = np.cos(t)\n",
    "    # Parametrização em Y\n",
    "    yParam = np.sin(t)\n",
    "    return (xParam, yParam)\n",
    "    \n",
    "\n",
    "dominioMin = np.pi\n",
    "dominioMax = (3*np.pi) / 2"
   ]
  },
  {
   "cell_type": "code",
   "execution_count": 268,
   "metadata": {
    "collapsed": false
   },
   "outputs": [],
   "source": [
    "v0 = 0\n",
    "tTotal = 0\n",
    "distTotal = 0\n",
    "precisao = 0.01\n",
    "delta = np.arange(dominioMin,dominioMax, precisao)\n",
    "gravidade = 9.81\n",
    "\n",
    "xMax, yMax = retornaParametrizacao(dominioMin)\n",
    "listaX = []\n",
    "listaY = []"
   ]
  },
  {
   "cell_type": "markdown",
   "metadata": {},
   "source": [
    "Depois, declaramos uma função cujo objetivo é achar os segmentos de reta que usaremos para aproximar a curva. Esses segmentos são, como mostra a imagem, a hipotenusa entre dois pontos da curva. A diferença entre esses pontos é a precisão do cálculo. Quanto menor a diferença entre eles, melhor a aproximação. A função recebe os pontos para os quais calcular o segmento de reta, obtidos através da função acima. Além disso, ela retorna o angulo de inclinação das retas que irá nos ajudar a calcular o tempo.\n",
    "\n",
    "<img src=\"hip.png\",width=300,height=300>"
   ]
  },
  {
   "cell_type": "code",
   "execution_count": 269,
   "metadata": {
    "collapsed": true
   },
   "outputs": [],
   "source": [
    "def findHipotenusa (x0, x1, y0, y1):\n",
    "    deltaX = x1 - x0\n",
    "    deltaY = y1 - y0\n",
    "    # Em radiano\n",
    "    angulo = np.arctan(deltaY/deltaX)\n",
    "    return np.sqrt((deltaX**2) + (deltaY**2)), angulo"
   ]
  },
  {
   "cell_type": "markdown",
   "metadata": {},
   "source": [
    "Então, declaramos uma função que irá nos retornar o tempo de percurso de cada segmento de reta. Ela recebe como parametros o angulo de inclinação, a distancia (hipotenusa) e a velocidade inicial. E ela retorna o tempo de percurso e a velocidade final (que será utilizada como inicial para o próximo segmento na próxima iteração, e assim por diante).\n",
    "Para calcular o tempo, utilizamos a equação:\n",
    "![fisica](equacao.png)\n",
    "\n",
    "Como já possuimos os parametros _ΔS_ (tamanho do segmento/hipotenusa), _v0_ (inicialmente 0, depois igual a velocidade final no segmento anterior) e _a_ (aceleração da gravidade), só precisamos isolar o _t_."
   ]
  },
  {
   "cell_type": "code",
   "execution_count": 270,
   "metadata": {
    "collapsed": true
   },
   "outputs": [],
   "source": [
    "# Formula usada\n",
    "# dist = v0*t + (a*(t**2))/2\n",
    "def retornaTempo (teta, dist, v0):\n",
    "    a = gravidade * np.cos(teta)\n",
    "    \n",
    "    delta = 4*(v0**2) + 8*a*dist\n",
    "    t1 = (-2*v0 + np.sqrt(delta))/(2*a)\n",
    "    #t2 = (-2*v0 - np.sqrt(delta))/(2*a)\n",
    "    v = v0 + a*t1 \n",
    "    return (t1,v)"
   ]
  },
  {
   "cell_type": "markdown",
   "metadata": {},
   "source": [
    "Por fim, contruímos o loop que junta todas essa funções. Ele roda para cada intervalo de precisão definido, e tem o seguinte comportamento: \n",
    "* Primeiro, descobre as coordenadas dos dois pontos do segmento aproximado por reta, com base na precisão pré definida\n",
    "* Depois, descobre o comprimento dessa reta (hipotenusa) e o seu angulo de inclinação, usando seu ponto inicial e final.\n",
    "* Então, calcula o tempo necessário para percorrer tal segmento e o adiciona ao tempo total para percorrer a curva.\n",
    "* Isso é repetido para cada intervalo de precisão definido, até percorrer a curva inteira.\n",
    "\n",
    "Por fim, imprime os valores (nesse caso, **um quarto de circunferencia**):"
   ]
  },
  {
   "cell_type": "code",
   "execution_count": 271,
   "metadata": {
    "collapsed": false,
    "scrolled": true
   },
   "outputs": [
    {
     "name": "stdout",
     "output_type": "stream",
     "text": [
      "Tempo total (s)\n",
      "2.26049822885\n",
      "Distancia total (m)\n",
      "1.57999341667\n"
     ]
    },
    {
     "data": {
      "image/png": "[encoded data removed]",
      "text/plain": [
       "<matplotlib.figure.Figure at 0x113951550>"
      ]
     },
     "metadata": {},
     "output_type": "display_data"
    }
   ],
   "source": [
    "consegueSubir = True\n",
    "\n",
    "for t in delta:\n",
    "    \n",
    "    x0, y0 = retornaParametrizacao(t)\n",
    "\n",
    "    listaX.append(x0)\n",
    "    listaY.append(y0)\n",
    "    x1, y1 = retornaParametrizacao(t + precisao)\n",
    "    \n",
    "    if (y1 > yMax):\n",
    "        consegueSubir = False\n",
    "    \n",
    "    hip, angulo = findHipotenusa(x0,x1,y0,y1)\n",
    "    distTotal += hip\n",
    "    t1, v = retornaTempo(angulo, hip, v0)\n",
    "    v0 = v\n",
    "    tTotal += t1\n",
    "    \n",
    "if consegueSubir: \n",
    "    print(\"Tempo total (s)\")\n",
    "    print(tTotal)\n",
    "    print('Distancia total (m)')\n",
    "    print(distTotal)\n",
    "\n",
    "else:\n",
    "    print('A bolinha não consegue subir essa curva. O Y máximo é {0}'.format(yMax))\n",
    "    \n",
    "plt.plot(listaX,listaY)\n",
    "plt.title('Figura 1: Quarto de circunferncia')\n",
    "plt.show()"
   ]
  },
  {
   "cell_type": "markdown",
   "metadata": {},
   "source": [
    "## Validação\n",
    "\n",
    "Abaixo está a validação da nossa simulação computacional. Nela, utilizamos uma reta parametrizada. Olhando seu domínio, fica claro que a distância percorrida faz sentido. Utilizando pitágoras, pode-se perceber que a distância vale raiz quadradada de 200, o que bate com nosso resultado.\n",
    "\n",
    "Para o cálculo do tempo, utilizamos uma reta vertical definida com x constante. Em seguida, calculamos o tempo que levaria para a bolinha percorrer o trajeto inteiro e validamos utilizando a física. Esse tempo precisa ser igual ao tempo necessário para ela cair em queda-livre."
   ]
  },
  {
   "cell_type": "markdown",
   "metadata": {},
   "source": [
    "### Reta para validação da distância"
   ]
  },
  {
   "cell_type": "code",
   "execution_count": 272,
   "metadata": {
    "collapsed": false
   },
   "outputs": [
    {
     "name": "stdout",
     "output_type": "stream",
     "text": [
      "Tempo total (s)\n",
      "2.01927510938\n",
      "Distancia total (m)\n",
      "14.1421356237\n"
     ]
    },
    {
     "data": {
      "image/png": "[encoded data removed]",
      "text/plain": [
       "<matplotlib.figure.Figure at 0x112d7b710>"
      ]
     },
     "metadata": {},
     "output_type": "display_data"
    }
   ],
   "source": [
    "def retornaParametrizacao (t):\n",
    "    # Parametrização em X\n",
    "    xParam = t\n",
    "    # Parametrização em Y\n",
    "    yParam = 10 - t\n",
    "    return (xParam, yParam)\n",
    "    \n",
    "\n",
    "dominioMin = 0\n",
    "dominioMax = 10\n",
    "v0 = 0\n",
    "tTotal = 0\n",
    "distTotal = 0\n",
    "precisao = 0.01\n",
    "delta = np.arange(dominioMin,dominioMax, precisao)\n",
    "gravidade = 9.81\n",
    "\n",
    "xMax, yMax = retornaParametrizacao(dominioMin)\n",
    "listaX = []\n",
    "listaY = []\n",
    "consegueSubir = True\n",
    "\n",
    "for t in delta:\n",
    "    x0, y0 = retornaParametrizacao(t)\n",
    "\n",
    "    listaX.append(x0)\n",
    "    listaY.append(y0)\n",
    "    x1, y1 = retornaParametrizacao(t + precisao)\n",
    "    \n",
    "    if (np.abs(y1) > np.abs(yMax)):\n",
    "        consegueSubir = False\n",
    "    \n",
    "    hip, angulo = findHipotenusa(x0,x1,y0,y1)\n",
    "    distTotal += hip\n",
    "    t1, v = retornaTempo(angulo, hip, v0)\n",
    "    v0 = v\n",
    "    tTotal += t1\n",
    "    \n",
    "if consegueSubir: \n",
    "    print(\"Tempo total (s)\")\n",
    "    print(tTotal)\n",
    "    print('Distancia total (m)')\n",
    "    print(distTotal)\n",
    "else:\n",
    "    print('A bolinha não consegue subir essa curva. O Y máximo é {0}'.format(yMax))\n",
    "\n",
    "plt.plot(listaX,listaY)\n",
    "plt.title('Figura 2: Reta decrescente')\n",
    "plt.show()"
   ]
  },
  {
   "cell_type": "markdown",
   "metadata": {},
   "source": [
    "### Reta para validação do Y máximo (conservação de energia)"
   ]
  },
  {
   "cell_type": "code",
   "execution_count": 273,
   "metadata": {
    "collapsed": false
   },
   "outputs": [
    {
     "name": "stdout",
     "output_type": "stream",
     "text": [
      "A bolinha não consegue subir essa curva. O Y máximo é 10\n"
     ]
    },
    {
     "data": {
      "image/png": "[encoded data removed]",
      "text/plain": [
       "<matplotlib.figure.Figure at 0x1130f5350>"
      ]
     },
     "metadata": {},
     "output_type": "display_data"
    }
   ],
   "source": [
    "def retornaParametrizacao (t):\n",
    "    # Parametrização em X\n",
    "    xParam = t\n",
    "    # Parametrização em Y\n",
    "    yParam = 10 + t\n",
    "    return (xParam, yParam)\n",
    "    \n",
    "\n",
    "dominioMin = 0\n",
    "dominioMax = 10\n",
    "v0 = 0\n",
    "tTotal = 0\n",
    "distTotal = 0\n",
    "precisao = 0.01\n",
    "delta = np.arange(dominioMin,dominioMax, precisao)\n",
    "gravidade = 9.81\n",
    "\n",
    "xMax, yMax = retornaParametrizacao(dominioMin)\n",
    "listaX = []\n",
    "listaY = []\n",
    "consegueSubir = True\n",
    "\n",
    "for t in delta:\n",
    "    x0, y0 = retornaParametrizacao(t)\n",
    "\n",
    "    listaX.append(x0)\n",
    "    listaY.append(y0)\n",
    "    x1, y1 = retornaParametrizacao(t + precisao)\n",
    "    \n",
    "    if (np.abs(y1) > np.abs(yMax)):\n",
    "        consegueSubir = False\n",
    "    \n",
    "    hip, angulo = findHipotenusa(x0,x1,y0,y1)\n",
    "    distTotal += hip\n",
    "    t1, v = retornaTempo(angulo, hip, v0)\n",
    "    v0 = v\n",
    "    tTotal += t1\n",
    "    \n",
    "if consegueSubir: \n",
    "    print(\"Tempo total (s)\")\n",
    "    print(tTotal)\n",
    "    print('Distancia total (m)')\n",
    "    print(distTotal)\n",
    "else:\n",
    "    print('A bolinha não consegue subir essa curva. O Y máximo é {0}'.format(yMax))\n",
    "\n",
    "plt.plot(listaX,listaY)\n",
    "plt.title('Figura 3: Reta crescente')\n",
    "plt.show()"
   ]
  },
  {
   "cell_type": "markdown",
   "metadata": {},
   "source": [
    "### Validação do tempo"
   ]
  },
  {
   "cell_type": "markdown",
   "metadata": {},
   "source": [
    "Tivemos bastante dificuldade para validar o tempo que a bolinha leva para percorrer determinada curva. Abaixo estão descritas as tentativas realizadas.\n",
    "\n",
    "1. Calcular o tempo que a bolinha leva para percorrer uma reta. Tivemos problemas para calcular o tempo teórico que levaria (tanto pela literatura matemática quanto pela física), e por isso acabamos trocando de tentativa.\n",
    "\n",
    "2. Calcular o tempo que a bolinha leva para percorrer uma reta vertical, com x constante. Da mesma forma que na tentativa acima, tivemos problemas. Dessa vez foi com o código. Ele reclamava de nossa equação utilizada na função `retornaTempo`, provavelmente devido a maneira com que dividimos a curva e distribuímos as forças. Sabendo esse tempo, utilizaríamos a fórmula da cinemática de posição em função do tempo para checarmos por valores iguais.\n",
    "\n",
    "3. Descobrir o tempo real de uma ciclóide e comparar com o tempo calculado pela simulação. Conversamos nosso colega (Eduardo Ferrari) e testamos com a ciclóide construída por ele. Tivemos muita dificuldade para medir o tempo, que da menos de 1 segundo na rampa construída. Além disso, tivemos dificuldade em descobrir os parâmetros exatos da ciclóide construída para equacionar uma semelhante.\n",
    "\n",
    "## Plots de Curvas Parametrizadas\n",
    "\n",
    "### 1. Curva de um oscilador massa-mola"
   ]
  },
  {
   "cell_type": "code",
   "execution_count": 274,
   "metadata": {
    "collapsed": false
   },
   "outputs": [
    {
     "name": "stdout",
     "output_type": "stream",
     "text": [
      "Tempo total (s)\n",
      "4.54522367649\n",
      "Distancia total (m)\n",
      "99.2361320764\n"
     ]
    },
    {
     "data": {
      "image/png": "[encoded data removed]",
      "text/plain": [
       "<matplotlib.figure.Figure at 0x1095e4b90>"
      ]
     },
     "metadata": {},
     "output_type": "display_data"
    }
   ],
   "source": [
    "def retornaParametrizacao (t):\n",
    "    # Parametrização em X\n",
    "    xParam = t\n",
    "    # Parametrização em Y\n",
    "    yParam = np.sin(t) / t\n",
    "    return (xParam, yParam)\n",
    "\n",
    "dominioMin = 1\n",
    "dominioMax = 100\n",
    "v0 = 0\n",
    "tTotal = 0\n",
    "distTotal = 0\n",
    "precisao = 0.01\n",
    "delta = np.arange(dominioMin,dominioMax, precisao)\n",
    "gravidade = 9.81\n",
    "\n",
    "xMax, yMax = retornaParametrizacao(dominioMin)\n",
    "listaX = []\n",
    "listaY = []\n",
    "consegueSubir = True\n",
    "\n",
    "for t in delta:\n",
    "    x0, y0 = retornaParametrizacao(t)\n",
    "\n",
    "    listaX.append(x0)\n",
    "    listaY.append(y0)\n",
    "    x1, y1 = retornaParametrizacao(t + precisao)\n",
    "    \n",
    "    hip, angulo = findHipotenusa(x0,x1,y0,y1)\n",
    "    distTotal += hip\n",
    "    t1, v = retornaTempo(angulo, hip, v0)\n",
    "    v0 = v\n",
    "    tTotal += t1\n",
    "    \n",
    "if consegueSubir: \n",
    "    print(\"Tempo total (s)\")\n",
    "    print(tTotal)\n",
    "    print('Distancia total (m)')\n",
    "    print(distTotal)\n",
    "else:\n",
    "    print('A bolinha não consegue subir essa curva. O Y máximo é {0}'.format(yMax))\n",
    "plt.plot(listaX,listaY)\n",
    "plt.title('Figura 4: Curva de um oscilador massa-mola')\n",
    "plt.show()"
   ]
  },
  {
   "cell_type": "markdown",
   "metadata": {
    "collapsed": true
   },
   "source": [
    "### 2. Ciclóide\n",
    "Para r =1:"
   ]
  },
  {
   "cell_type": "code",
   "execution_count": 275,
   "metadata": {
    "collapsed": false
   },
   "outputs": [
    {
     "name": "stdout",
     "output_type": "stream",
     "text": [
      "Tempo total (s)\n",
      "0.767815164148\n",
      "Distancia total (m)\n",
      "2.66911308936\n"
     ]
    },
    {
     "data": {
      "image/png": "[encoded data removed]",
      "text/plain": [
       "<matplotlib.figure.Figure at 0x112bdb490>"
      ]
     },
     "metadata": {},
     "output_type": "display_data"
    }
   ],
   "source": [
    "def retornaParametrizacao (t):\n",
    "    # Parametrização em X\n",
    "    xParam = (t - np.sin(t))\n",
    "    # Parametrização em Y\n",
    "    yParam = -(t -np.cos(t))\n",
    "    return (xParam, yParam)\n",
    "\n",
    "dominioMin = np.pi\n",
    "dominioMax = 3*np.pi/2\n",
    "v0 = 0\n",
    "tTotal = 0\n",
    "distTotal = 0\n",
    "precisao = 0.01\n",
    "delta = np.arange(dominioMin,dominioMax, precisao)\n",
    "gravidade = 9.81\n",
    "\n",
    "xMax, yMax = retornaParametrizacao(dominioMin)\n",
    "listaX = []\n",
    "listaY = []\n",
    "consegueSubir = True\n",
    "\n",
    "for t in delta:\n",
    "    x0, y0 = retornaParametrizacao(t)\n",
    "\n",
    "    listaX.append(x0)\n",
    "    listaY.append(y0)\n",
    "    x1, y1 = retornaParametrizacao(t + precisao)\n",
    "    \n",
    "    hip, angulo = findHipotenusa(x0,x1,y0,y1)\n",
    "    distTotal += hip\n",
    "    t1, v = retornaTempo(angulo, hip, v0)\n",
    "    v0 = v\n",
    "    tTotal += t1\n",
    "    \n",
    "if consegueSubir: \n",
    "    print(\"Tempo total (s)\")\n",
    "    print(tTotal)\n",
    "    print('Distancia total (m)')\n",
    "    print(distTotal)\n",
    "else:\n",
    "    print('A bolinha não consegue subir essa curva. O Y máximo é {0}'.format(yMax))\n",
    "plt.plot(listaX,listaY)\n",
    "plt.title('Figura 5: Cicloide')\n",
    "plt.show()"
   ]
  },
  {
   "cell_type": "markdown",
   "metadata": {
    "collapsed": true
   },
   "source": [
    "### 3. Elipse\n",
    "Com a = 8 e b = 5"
   ]
  },
  {
   "cell_type": "code",
   "execution_count": 276,
   "metadata": {
    "collapsed": false
   },
   "outputs": [
    {
     "name": "stdout",
     "output_type": "stream",
     "text": [
      "Tempo total (s)\n",
      "1.48227279029\n",
      "Distancia total (m)\n",
      "10.3925447961\n"
     ]
    },
    {
     "data": {
      "image/png": "[encoded data removed]",
      "text/plain": [
       "<matplotlib.figure.Figure at 0x112a9c950>"
      ]
     },
     "metadata": {},
     "output_type": "display_data"
    }
   ],
   "source": [
    "def retornaParametrizacao (t):\n",
    "    # Parametrização em X\n",
    "    xParam = 8 * np.sin(t)\n",
    "    # Parametrização em Y\n",
    "    yParam = 5 * np.cos(t)\n",
    "    return (xParam, yParam)\n",
    "    \n",
    "\n",
    "dominioMin = np.pi\n",
    "dominioMax = 3*np.pi/2\n",
    "v0 = 0\n",
    "tTotal = 0\n",
    "distTotal = 0\n",
    "precisao = 0.01\n",
    "delta = np.arange(dominioMin,dominioMax, precisao)\n",
    "gravidade = 9.81\n",
    "\n",
    "xMax, yMax = retornaParametrizacao(dominioMin)\n",
    "listaX = []\n",
    "listaY = []\n",
    "consegueSubir = True\n",
    "\n",
    "for t in delta:\n",
    "    x0, y0 = retornaParametrizacao(t)\n",
    "\n",
    "    listaX.append(x0)\n",
    "    listaY.append(y0)\n",
    "    x1, y1 = retornaParametrizacao(t + precisao)\n",
    "    \n",
    "    if (np.abs(y1) > np.abs(yMax)):\n",
    "        consegueSubir = False\n",
    "    \n",
    "    hip, angulo = findHipotenusa(x0,x1,y0,y1)\n",
    "    distTotal += hip\n",
    "    t1, v = retornaTempo(angulo, hip, v0)\n",
    "    v0 = v\n",
    "    tTotal += t1\n",
    "    \n",
    "if consegueSubir: \n",
    "    print(\"Tempo total (s)\")\n",
    "    print(tTotal)\n",
    "    print('Distancia total (m)')\n",
    "    print(distTotal)\n",
    "else:\n",
    "    print('A bolinha não consegue subir essa curva. O Y máximo é {0}'.format(yMax))\n",
    "plt.plot(listaX,listaY)\n",
    "plt.title('Figura 6: Elipse')\n",
    "plt.show()"
   ]
  },
  {
   "cell_type": "markdown",
   "metadata": {},
   "source": [
    "# Conclusões\n",
    "\n",
    "Um dos objetivos do projeto era identificar se a bolinha caía mais rápido em uma ciclóide do que em outra curva qualquer. Comparando as figuras 1 e 5, percebemos que de fato a ciclóide apresenta um menor tempo de queda, com 0.767 segundos em comparação aos 2.260 segundos da circunferência. Entretanto, precisamos analisar os eixos. Tivemos problemas na hora de plotá-las com ponto final e inicial definidos, já que nosso código foi estruturado com base em domínios. Dessa forma, não podemos comparar seus tempos com exatidão.\n",
    "\n",
    "O modelo computacional criado é válido. Entretanto, tivemos algumas dificuldades em validá-lo usando a física e a matemática. Por conta disso não conseguimos corrigir alguns problemas, principalmente os relacionados com a física do projeto. Acreditamos ter criado um método correto, porém não podemos ter certeza pela falta de uma validação coerente. Em uma segunda iteração desse projeto, iremos verificar a equação utilizada na função `retornaTempo` e nos aprofundar em alguma validação."
   ]
  }
 ],
 "metadata": {
  "kernelspec": {
   "display_name": "Python 2",
   "language": "python",
   "name": "python2"
  },
  "language_info": {
   "codemirror_mode": {
    "name": "ipython",
    "version": 2
   },
   "file_extension": ".py",
   "mimetype": "text/x-python",
   "name": "python",
   "nbconvert_exporter": "python",
   "pygments_lexer": "ipython2",
   "version": "2.7.13"
  }
 },
 "nbformat": 4,
 "nbformat_minor": 1
}
