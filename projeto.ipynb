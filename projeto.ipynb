{
 "cells": [
  {
   "cell_type": "markdown",
   "metadata": {},
   "source": [
    "### Relatório\n",
    "Falar aqui do trabalho, introduzir a proposta"
   ]
  },
  {
   "cell_type": "code",
   "execution_count": 1,
   "metadata": {
    "collapsed": true
   },
   "outputs": [],
   "source": [
    "import matplotlib as mpl\n",
    "import numpy as np\n",
    "import matplotlib.pyplot as plt\n"
   ]
  },
  {
   "cell_type": "markdown",
   "metadata": {},
   "source": [
    "## Dedução\tgeométrica\tda\tparametrização\tda\tcicloide\n",
    "\n",
    "Considere uma circunferência C de raio _r_ com um ponto P, fixo. Ao rolar a circunferência sobre uma reta (eixo x), o ponto P traça uma curva chamada de ciclóide. A seguir, apresentamos a dedução geométrica para sua parametrização, partindo dos seguintes pressupostos:\n",
    "\n",
    "* o círculo C inicia o movimento com centro no ponto (0, r);\n",
    "* o ponto P coincide com a origem do sistema de coordenadas no início do movimento;\n",
    "\n",
    "Tracemos dois círculos: C1, representando C em sua posição inicial, e C2, representando C\n",
    "após ter rolado alguns instantes.\n",
    "\n",
    "* sejam O1 e O2 os centros de C1 e C2, respectivamente;\n",
    "* P = (x, y) o ponto da ciclóide em C2;\n",
    "* A o ponto em que C2 toca o eixo x;\n",
    "* Q = (x, 0) e T = (0, y) as projeções ortogonais de P sobre os eixos x e y, respectivamente;\n",
    "* M e N as projeções ortogonais de P sobre O2O1 e O2A;\n",
    "* t a medida do ângulo AO2 /\\ P, tomada em radianos;\n",
    "\n",
    "A figura a seguir ilustra a situação:\n",
    "\n",
    "![cicloid](cic.png)\n",
    "\n",
    "Analisando o sinal de _sen t_ e _cos t_ nos intervalos _[0, π/2], [π/2, π], [π, 3π/2] e [3π/2, 2π]_, vemos que as\n",
    "coordenadas x e y de P são determinadas por meio das seguintes relações:\n",
    "\n",
    "![cicloidEq](equacoesCicloide.png)\n",
    "\n",
    "Assim obtemos as seguintes parametrizações da ciclóide (t = theta):\n",
    "\n",
    "![cicloid](param.png)"
   ]
  },
  {
   "cell_type": "code",
   "execution_count": null,
   "metadata": {
    "collapsed": true
   },
   "outputs": [],
   "source": []
  },
  {
   "cell_type": "markdown",
   "metadata": {
    "collapsed": true
   },
   "source": [
    "Inicialmente, declaramos as variáveis que irão armazenar as parametrizações, além de setar alguns parametros e algumas burocracias de código. Também definimos o dominios das parametrizações.\n",
    "##### Coloque a sua parametrização e o domínio nas variáveis abaixo "
   ]
  },
  {
   "cell_type": "code",
   "execution_count": 2,
   "metadata": {
    "collapsed": false
   },
   "outputs": [],
   "source": [
    "def retornaParametrizacao (t):\n",
    "    # Parametrização em X\n",
    "    xParam = np.cos(t)\n",
    "    # Parametrização em Y\n",
    "    yParam = np.sin(t)\n",
    "    return (xParam, yParam)\n",
    "    \n",
    "\n",
    "dominioMin = np.pi\n",
    "dominioMax = (3*np.pi) / 2"
   ]
  },
  {
   "cell_type": "code",
   "execution_count": 3,
   "metadata": {
    "collapsed": false
   },
   "outputs": [],
   "source": [
    "v0 = 0\n",
    "tTotal = 0\n",
    "distTotal = 0\n",
    "precisao = 0.01\n",
    "delta = np.arange(dominioMin,dominioMax, precisao)\n",
    "gravidade = 9.81\n",
    "\n",
    "xMax, yMax = retornaParametrizacao(dominioMin)"
   ]
  },
  {
   "cell_type": "markdown",
   "metadata": {},
   "source": [
    "Depois, declaramos uma função cujo objetivo é achar os segmentos de reta que usaremos para aproximar a curva. Esses segmentos são, como mostra a imagem, a hipotenusa entre dois pontos da curva. A diferença entre esses pontos é a precisão do cálculo. Quanto menor a diferença entre eles, melhor a aproximação. A função recebe os pontos para os quais calcular o segmento de reta, obtido através da função acima. Além disso, ela retorna o angulo de inclinação das retas que irá nos ajudar a calcular o tempo.\n",
    "\n",
    "![hipotenusa](hip.png)"
   ]
  },
  {
   "cell_type": "code",
   "execution_count": 4,
   "metadata": {
    "collapsed": true
   },
   "outputs": [],
   "source": [
    "def findHipotenusa (x0, x1, y0, y1):\n",
    "    deltaX = x1 - x0\n",
    "    deltaY = y1 - y0\n",
    "    # Em radiano\n",
    "    angulo = np.arctan(deltaY/deltaX)\n",
    "    return np.sqrt((deltaX**2) + (deltaY**2)), angulo"
   ]
  },
  {
   "cell_type": "markdown",
   "metadata": {},
   "source": [
    "Então, declaramos uma função que irá nos retornar o tempo de percurso de cada segmento de reta. Ela recebe como parametros o angulo de inclinação, a distancia (hipotenusa) e a velocidade inicial. E ela retorna o tempo de percurso e a velocidade final (que será utilizada como inicial para o próximo segmento na próxima iteração, e assim por diante).\n",
    "Para calcular o tempo, utilizamos a equação:\n",
    "![fisica](equacao.png)\n",
    "\n",
    "Como já possuimos os parametros _ΔS_ (tamanho do segmento/hipotenusa), _v0_ (inicialmente 0, depois igual a velocidade final no segmento anterior) e _a_ (aceleração da gravidade), só precisamos isolar o _t_."
   ]
  },
  {
   "cell_type": "code",
   "execution_count": 5,
   "metadata": {
    "collapsed": true
   },
   "outputs": [],
   "source": [
    "# Formula usada\n",
    "# dist = v0*t + (a*(t**2))/2\n",
    "def retornaTempo (teta, dist, v0):\n",
    "    a = gravidade * np.cos(teta)\n",
    "    \n",
    "    delta = 4*(v0**2) + 8*a*dist\n",
    "    t1 = (-2*v0 + np.sqrt(delta))/(2*a)\n",
    "    #t2 = (-2*v0 - np.sqrt(delta))/(2*a)\n",
    "    v = v0 + a*t1 \n",
    "    return (t1,v)"
   ]
  },
  {
   "cell_type": "markdown",
   "metadata": {},
   "source": [
    "Por fim, contruímos o loop que junta todas essa funções. Ele roda para cada intervalo de precisão definido, e tem o seguinte comportamento: \n",
    "* Primeiro, descobre as coordenadas dos dois pontos do segmento aproximado por reta, com base na precisão pré definida\n",
    "* Depois, descobre o comprimento dessa reta (hipotenusa) e o seu angulo de inclinação, usando seu ponto inicial e final.\n",
    "* Então, calcula o tempo necessário para percorrer tal segmento e o adiciona ao tempo total para percorrer a curva.\n",
    "* Isso é repetido para cada intervalo de precisão definido, até percorrer a curva inteira.\n",
    "\n",
    "Por fim, imprime os valores"
   ]
  },
  {
   "cell_type": "code",
   "execution_count": 6,
   "metadata": {
    "collapsed": false,
    "scrolled": true
   },
   "outputs": [
    {
     "name": "stdout",
     "output_type": "stream",
     "text": [
      "Tempo total\n",
      "2.26049822885\n",
      "Distancia total\n",
      "1.57999341667\n"
     ]
    }
   ],
   "source": [
    "for t in delta:\n",
    "    x0, y0 = retornaParametrizacao(t)\n",
    "    x1, y1 = retornaParametrizacao(t + precisao)\n",
    "    \n",
    "    if (y1 > yMax):\n",
    "        print('A bolinha não consegue subir essa curva. O Y máximo é {0}'.format(yMax))\n",
    "        break\n",
    "    \n",
    "    hip, angulo = findHipotenusa(x0,x1,y0,y1)\n",
    "    distTotal += hip\n",
    "    t1, v = retornaTempo(angulo, hip, v0)\n",
    "    v0 = v\n",
    "    tTotal += t1\n",
    "    #print(t1,v)\n",
    "    \n",
    "print(\"Tempo total\")\n",
    "print(tTotal)\n",
    "print('Distancia total')\n",
    "print(distTotal)\n",
    "\n",
    "# plt.plot(parabola)\n",
    "# plt.plot(x,y)\n",
    "\n",
    "# reta = 2*delta2\n",
    "# plt.plot(reta)\n",
    "#for x in delta:\n",
    "# plt.show()"
   ]
  }
 ],
 "metadata": {
  "kernelspec": {
   "display_name": "Python 2",
   "language": "python",
   "name": "python2"
  },
  "language_info": {
   "codemirror_mode": {
    "name": "ipython",
    "version": 2
   },
   "file_extension": ".py",
   "mimetype": "text/x-python",
   "name": "python",
   "nbconvert_exporter": "python",
   "pygments_lexer": "ipython2",
   "version": "2.7.13"
  }
 },
 "nbformat": 4,
 "nbformat_minor": 1
}
